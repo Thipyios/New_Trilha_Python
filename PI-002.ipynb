{
 "cells": [
  {
   "cell_type": "markdown",
   "metadata": {},
   "source": [
    "# Teste de execução em metodos estatiscos"
   ]
  },
  {
   "cell_type": "code",
   "execution_count": 1,
   "metadata": {},
   "outputs": [],
   "source": [
    "from datafruta.ListaSalarios import ListaSalarios\n",
    "from datafruta.ListaIdades import ListaIdades\n",
    "import numpy as np\n",
    "\n",
    "tamanho = 5000\n",
    "\n",
    "salarios = ListaSalarios.geraListaSalarios(tamanho)\n",
    "idades = ListaIdades.geraListaIdades(tamanho)\n",
    "\n",
    "idades_array = np.array(idades.lista, dtype=np.int32)\n",
    "salarios_array = np.array(salarios.lista)"
   ]
  },
  {
   "cell_type": "markdown",
   "metadata": {},
   "source": [
    "# Funções para gerar um ndarray com valores aleatórios num determinado intervalo"
   ]
  },
  {
   "cell_type": "code",
   "execution_count": 2,
   "metadata": {},
   "outputs": [],
   "source": [
    "def geraNdarraySalarios(n, sMin=1000, sMax=5000):\n",
    "        salarios_gerados = np.random.uniform(sMin, sMax, n)\n",
    "        \n",
    "        return salarios_gerados\n",
    "\n",
    "def geraNdarrayIdades(cls, n, iMin=18, iMax=65):\n",
    "        idades_geradas = np.random.randint(iMin, iMax, n)\n",
    "        \n",
    "        return idades_geradas"
   ]
  },
  {
   "cell_type": "markdown",
   "metadata": {},
   "source": [
    "## Maximo elemento"
   ]
  },
  {
   "cell_type": "markdown",
   "metadata": {},
   "source": [
    "### Lista"
   ]
  },
  {
   "cell_type": "code",
   "execution_count": 3,
   "metadata": {},
   "outputs": [
    {
     "name": "stdout",
     "output_type": "stream",
     "text": [
      "32.5 µs ± 122 ns per loop (mean ± std. dev. of 7 runs, 10,000 loops each)\n",
      "A maior idade é:  65\n"
     ]
    }
   ],
   "source": [
    "%timeit idades.mostraMaior()\n",
    "print(\"A maior idade é: \", idades.mostraMaior())"
   ]
  },
  {
   "cell_type": "code",
   "execution_count": 4,
   "metadata": {},
   "outputs": [
    {
     "name": "stdout",
     "output_type": "stream",
     "text": [
      "36.4 µs ± 3.34 µs per loop (mean ± std. dev. of 7 runs, 10,000 loops each)\n",
      "O maior salário é:  4997.83\n"
     ]
    }
   ],
   "source": [
    "%timeit salarios.mostraMaior()\n",
    "print(\"O maior salário é: \", salarios.mostraMaior())"
   ]
  },
  {
   "cell_type": "markdown",
   "metadata": {},
   "source": [
    "### Array numpy"
   ]
  },
  {
   "cell_type": "code",
   "execution_count": 5,
   "metadata": {},
   "outputs": [
    {
     "name": "stdout",
     "output_type": "stream",
     "text": [
      "3.07 µs ± 21.3 ns per loop (mean ± std. dev. of 7 runs, 100,000 loops each)\n",
      "A maior idade é:  65\n"
     ]
    }
   ],
   "source": [
    "%timeit np.max(idades_array)\n",
    "\n",
    "print(\"A maior idade é: \", np.max(idades_array))\n"
   ]
  },
  {
   "cell_type": "code",
   "execution_count": 6,
   "metadata": {},
   "outputs": [
    {
     "name": "stdout",
     "output_type": "stream",
     "text": [
      "3.83 µs ± 6.83 ns per loop (mean ± std. dev. of 7 runs, 100,000 loops each)\n",
      "O maior salário é:  4997.83\n"
     ]
    }
   ],
   "source": [
    "%timeit np.max(salarios_array)\n",
    "\n",
    "print(\"O maior salário é: \", np.max(salarios_array))"
   ]
  },
  {
   "cell_type": "markdown",
   "metadata": {},
   "source": [
    "## Minimo elemento"
   ]
  },
  {
   "cell_type": "markdown",
   "metadata": {},
   "source": [
    "### Lista"
   ]
  },
  {
   "cell_type": "code",
   "execution_count": 7,
   "metadata": {},
   "outputs": [
    {
     "name": "stdout",
     "output_type": "stream",
     "text": [
      "32.7 µs ± 192 ns per loop (mean ± std. dev. of 7 runs, 10,000 loops each)\n",
      "A menor idade é:  18\n"
     ]
    }
   ],
   "source": [
    "%timeit idades.mostraMenor()\n",
    "print(\"A menor idade é: \", idades.mostraMenor())"
   ]
  },
  {
   "cell_type": "code",
   "execution_count": 8,
   "metadata": {},
   "outputs": [
    {
     "name": "stdout",
     "output_type": "stream",
     "text": [
      "34.2 µs ± 87.9 ns per loop (mean ± std. dev. of 7 runs, 10,000 loops each)\n",
      "O menor salário é:  1000.22\n"
     ]
    }
   ],
   "source": [
    "%timeit salarios.mostraMenor()\n",
    "print(\"O menor salário é: \", salarios.mostraMenor())"
   ]
  },
  {
   "cell_type": "markdown",
   "metadata": {},
   "source": [
    "### Array numpy"
   ]
  },
  {
   "cell_type": "code",
   "execution_count": 9,
   "metadata": {},
   "outputs": [
    {
     "name": "stdout",
     "output_type": "stream",
     "text": [
      "3.1 µs ± 17.2 ns per loop (mean ± std. dev. of 7 runs, 100,000 loops each)\n",
      "A menor idade é:  18\n"
     ]
    }
   ],
   "source": [
    "%timeit np.min(idades_array)\n",
    "\n",
    "print(\"A menor idade é: \", np.min(idades_array))"
   ]
  },
  {
   "cell_type": "code",
   "execution_count": 10,
   "metadata": {},
   "outputs": [
    {
     "name": "stdout",
     "output_type": "stream",
     "text": [
      "3.86 µs ± 27.6 ns per loop (mean ± std. dev. of 7 runs, 100,000 loops each)\n",
      "O menor salário é:  1000.22\n"
     ]
    }
   ],
   "source": [
    "%timeit np.min(salarios_array)\n",
    "\n",
    "print(\"O menor salário é: \", np.min(salarios_array))"
   ]
  },
  {
   "cell_type": "markdown",
   "metadata": {},
   "source": [
    "## Mediana"
   ]
  },
  {
   "cell_type": "markdown",
   "metadata": {},
   "source": [
    "### Lista"
   ]
  },
  {
   "cell_type": "code",
   "execution_count": 11,
   "metadata": {},
   "outputs": [
    {
     "name": "stdout",
     "output_type": "stream",
     "text": [
      "338 µs ± 1.02 µs per loop (mean ± std. dev. of 7 runs, 1,000 loops each)\n",
      "A mediana das idades é:  42.0\n"
     ]
    }
   ],
   "source": [
    "%timeit idades.mostraMediana()\n",
    "print(\"A mediana das idades é: \", idades.mostraMediana())"
   ]
  },
  {
   "cell_type": "code",
   "execution_count": 12,
   "metadata": {},
   "outputs": [
    {
     "name": "stdout",
     "output_type": "stream",
     "text": [
      "463 µs ± 770 ns per loop (mean ± std. dev. of 7 runs, 1,000 loops each)\n",
      "A mediana dos salários é:  3022.63\n"
     ]
    }
   ],
   "source": [
    "%timeit salarios.mostraMediana()\n",
    "print(\"A mediana dos salários é: \", salarios.mostraMediana())"
   ]
  },
  {
   "cell_type": "markdown",
   "metadata": {},
   "source": [
    "### Array numpy"
   ]
  },
  {
   "cell_type": "code",
   "execution_count": 13,
   "metadata": {},
   "outputs": [
    {
     "name": "stdout",
     "output_type": "stream",
     "text": [
      "37 µs ± 39.7 ns per loop (mean ± std. dev. of 7 runs, 10,000 loops each)\n",
      "A mediana das idades é:  42.0\n"
     ]
    }
   ],
   "source": [
    "%timeit np.median(idades_array)\n",
    "\n",
    "print(\"A mediana das idades é: \", np.median(idades_array))"
   ]
  },
  {
   "cell_type": "code",
   "execution_count": 14,
   "metadata": {},
   "outputs": [
    {
     "name": "stdout",
     "output_type": "stream",
     "text": [
      "52.8 µs ± 1.43 µs per loop (mean ± std. dev. of 7 runs, 10,000 loops each)\n",
      "A mediana dos salários é:  3022.63\n"
     ]
    }
   ],
   "source": [
    "%timeit np.median(salarios_array)\n",
    "\n",
    "print(\"A mediana dos salários é: \", np.median(salarios_array))"
   ]
  }
 ],
 "metadata": {
  "kernelspec": {
   "display_name": "base",
   "language": "python",
   "name": "python3"
  },
  "language_info": {
   "codemirror_mode": {
    "name": "ipython",
    "version": 3
   },
   "file_extension": ".py",
   "mimetype": "text/x-python",
   "name": "python",
   "nbconvert_exporter": "python",
   "pygments_lexer": "ipython3",
   "version": "3.11.5"
  }
 },
 "nbformat": 4,
 "nbformat_minor": 2
}
