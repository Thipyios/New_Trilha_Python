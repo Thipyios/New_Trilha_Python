{
 "cells": [
  {
   "cell_type": "markdown",
   "metadata": {},
   "source": [
    "# Teste de execução em metodos estatiscos"
   ]
  },
  {
   "cell_type": "code",
   "execution_count": 19,
   "metadata": {},
   "outputs": [],
   "source": [
    "from datafruta.ListaSalarios import ListaSalarios\n",
    "from datafruta.ListaIdades import ListaIdades\n",
    "\n",
    "tamanho = 5000\n",
    "\n",
    "salarios = ListaSalarios.geraListaSalarios(tamanho)\n",
    "idades = ListaIdades.geraListaIdades(tamanho)"
   ]
  },
  {
   "cell_type": "markdown",
   "metadata": {},
   "source": [
    "## Maximo elemento"
   ]
  },
  {
   "cell_type": "markdown",
   "metadata": {},
   "source": [
    "### Lista"
   ]
  },
  {
   "cell_type": "code",
   "execution_count": 24,
   "metadata": {},
   "outputs": [
    {
     "name": "stdout",
     "output_type": "stream",
     "text": [
      "68 µs ± 4.54 µs per loop (mean ± std. dev. of 7 runs, 10,000 loops each)\n",
      "A maior idade é:  65\n"
     ]
    }
   ],
   "source": [
    "%timeit idades.mostraMaior()\n",
    "print(\"A maior idade é: \", idades.mostraMaior())"
   ]
  },
  {
   "cell_type": "code",
   "execution_count": 23,
   "metadata": {},
   "outputs": [
    {
     "name": "stdout",
     "output_type": "stream",
     "text": [
      "92.7 µs ± 10.1 µs per loop (mean ± std. dev. of 7 runs, 10,000 loops each)\n",
      "O maior salário é:  4997.44\n"
     ]
    }
   ],
   "source": [
    "%timeit salarios.mostraMaior()\n",
    "print(\"O maior salário é: \", salarios.mostraMaior())"
   ]
  },
  {
   "cell_type": "markdown",
   "metadata": {},
   "source": [
    "### Array numpy"
   ]
  },
  {
   "cell_type": "markdown",
   "metadata": {},
   "source": [
    "## Minimo elemento"
   ]
  },
  {
   "cell_type": "markdown",
   "metadata": {},
   "source": [
    "### Lista"
   ]
  },
  {
   "cell_type": "code",
   "execution_count": 26,
   "metadata": {},
   "outputs": [
    {
     "name": "stdout",
     "output_type": "stream",
     "text": [
      "60.7 µs ± 2.01 µs per loop (mean ± std. dev. of 7 runs, 10,000 loops each)\n",
      "A menor idade é:  18\n"
     ]
    }
   ],
   "source": [
    "%timeit idades.mostraMenor()\n",
    "print(\"A menor idade é: \", idades.mostraMenor())"
   ]
  },
  {
   "cell_type": "code",
   "execution_count": 27,
   "metadata": {},
   "outputs": [
    {
     "name": "stdout",
     "output_type": "stream",
     "text": [
      "94.7 µs ± 9.79 µs per loop (mean ± std. dev. of 7 runs, 10,000 loops each)\n",
      "O menor salário é:  1000.21\n"
     ]
    }
   ],
   "source": [
    "%timeit salarios.mostraMenor()\n",
    "print(\"O menor salário é: \", salarios.mostraMenor())"
   ]
  },
  {
   "cell_type": "markdown",
   "metadata": {},
   "source": [
    "### Array numpy"
   ]
  },
  {
   "cell_type": "markdown",
   "metadata": {},
   "source": [
    "## Mediana"
   ]
  },
  {
   "cell_type": "markdown",
   "metadata": {},
   "source": [
    "### Lista"
   ]
  },
  {
   "cell_type": "code",
   "execution_count": 28,
   "metadata": {},
   "outputs": [
    {
     "name": "stdout",
     "output_type": "stream",
     "text": [
      "354 µs ± 9.19 µs per loop (mean ± std. dev. of 7 runs, 1,000 loops each)\n",
      "A mediana das idades é:  41.0\n"
     ]
    }
   ],
   "source": [
    "%timeit idades.mostraMediana()\n",
    "print(\"A mediana das idades é: \", idades.mostraMediana())"
   ]
  },
  {
   "cell_type": "code",
   "execution_count": 29,
   "metadata": {},
   "outputs": [
    {
     "name": "stdout",
     "output_type": "stream",
     "text": [
      "494 µs ± 8.44 µs per loop (mean ± std. dev. of 7 runs, 1,000 loops each)\n",
      "A mediana dos salários é:  2989.895\n"
     ]
    }
   ],
   "source": [
    "%timeit salarios.mostraMediana()\n",
    "print(\"A mediana dos salários é: \", salarios.mostraMediana())"
   ]
  },
  {
   "cell_type": "markdown",
   "metadata": {},
   "source": [
    "### Array numpy"
   ]
  }
 ],
 "metadata": {
  "kernelspec": {
   "display_name": "base",
   "language": "python",
   "name": "python3"
  },
  "language_info": {
   "codemirror_mode": {
    "name": "ipython",
    "version": 3
   },
   "file_extension": ".py",
   "mimetype": "text/x-python",
   "name": "python",
   "nbconvert_exporter": "python",
   "pygments_lexer": "ipython3",
   "version": "3.11.5"
  }
 },
 "nbformat": 4,
 "nbformat_minor": 2
}
