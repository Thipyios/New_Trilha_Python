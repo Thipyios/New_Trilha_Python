{
 "cells": [
  {
   "cell_type": "markdown",
   "metadata": {},
   "source": [
    "# Comparação desempenho de funções nativas numpy"
   ]
  },
  {
   "cell_type": "code",
   "execution_count": 1,
   "metadata": {},
   "outputs": [],
   "source": [
    "from DataFruta_V1.ListaSalarios import ListaSalarios\n",
    "from DataFruta_V1.NotasTurma import NotasTurma\n",
    "import numpy as np\n",
    "\n",
    "numero_alunos = 1000 # linhas\n",
    "numero_credito = 1000 # colunas\n",
    "\n",
    "notas = NotasTurma(numero_alunos, numero_credito)\n",
    "notas.geraDados()\n",
    "\n",
    "# pega as notas do primeiro aluno para ser os dados da lista de salarios\n",
    "lista_salarios = ListaSalarios(notas.getNotasAluno())\n"
   ]
  },
  {
   "cell_type": "markdown",
   "metadata": {},
   "source": [
    "## Médias e medidas de valor central"
   ]
  },
  {
   "cell_type": "markdown",
   "metadata": {},
   "source": [
    "### Média aritmética"
   ]
  },
  {
   "cell_type": "code",
   "execution_count": 2,
   "metadata": {},
   "outputs": [
    {
     "name": "stdout",
     "output_type": "stream",
     "text": [
      "174 µs ± 13.4 µs per loop (mean ± std. dev. of 7 runs, 10,000 loops each)\n",
      "Media dos salario = 5.024390000000005\n"
     ]
    }
   ],
   "source": [
    "# usando sem metodos numpy\n",
    "%timeit lista_salarios.mediaAritmetica()\n",
    "print(\"Media dos salario = \" + str(lista_salarios.mediaAritmetica()))"
   ]
  },
  {
   "cell_type": "code",
   "execution_count": 3,
   "metadata": {},
   "outputs": [
    {
     "name": "stdout",
     "output_type": "stream",
     "text": [
      "7.75 µs ± 806 ns per loop (mean ± std. dev. of 7 runs, 100,000 loops each)\n",
      "Media dos salario = 5.02439\n"
     ]
    }
   ],
   "source": [
    "# usando metodos nativos numpy\n",
    "%timeit notas.mediaAritmeticaAluno()\n",
    "print(\"Media dos salario = \" + str(notas.mediaAritmeticaAluno()))"
   ]
  },
  {
   "cell_type": "markdown",
   "metadata": {},
   "source": [
    "### Media geométrica"
   ]
  },
  {
   "cell_type": "code",
   "execution_count": 4,
   "metadata": {},
   "outputs": [
    {
     "name": "stdout",
     "output_type": "stream",
     "text": [
      "165 µs ± 24.6 µs per loop (mean ± std. dev. of 7 runs, 10,000 loops each)\n",
      "Media geometrica dos salario = 0.0\n"
     ]
    }
   ],
   "source": [
    "# usando sem metodos numpy\n",
    "%timeit lista_salarios.mediaGeometrica()\n",
    "print(\"Media geometrica dos salario = \" + str(lista_salarios.mediaGeometrica()))"
   ]
  },
  {
   "cell_type": "code",
   "execution_count": 5,
   "metadata": {},
   "outputs": [
    {
     "name": "stdout",
     "output_type": "stream",
     "text": [
      "9.62 µs ± 834 ns per loop (mean ± std. dev. of 7 runs, 100,000 loops each)\n",
      "Media geometrica dos salario = 0.0\n"
     ]
    }
   ],
   "source": [
    "# usando metodos numpy\n",
    "%timeit notas.mediaGeometricaAluno()\n",
    "print(\"Media geometrica dos salario = \" + str(notas.mediaGeometricaAluno()))"
   ]
  },
  {
   "cell_type": "markdown",
   "metadata": {},
   "source": [
    "### Media harmonica"
   ]
  },
  {
   "cell_type": "code",
   "execution_count": 6,
   "metadata": {},
   "outputs": [
    {
     "name": "stderr",
     "output_type": "stream",
     "text": [
      "c:\\Users\\evera\\Documents\\workspace\\Trilha_Python\\DataFruta_V1\\ListaSalarios.py:138: RuntimeWarning: divide by zero encountered in scalar divide\n",
      "  soma += 1 / i\n"
     ]
    },
    {
     "name": "stdout",
     "output_type": "stream",
     "text": [
      "400 µs ± 56.8 µs per loop (mean ± std. dev. of 7 runs, 1,000 loops each)\n",
      "Media harmonica dos salario = 0.0\n"
     ]
    }
   ],
   "source": [
    "# usando sem metodos numpy\n",
    "%timeit lista_salarios.mediaHarmonica()\n",
    "print(\"Media harmonica dos salario = \" + str(lista_salarios.mediaHarmonica()))"
   ]
  },
  {
   "cell_type": "code",
   "execution_count": 7,
   "metadata": {},
   "outputs": [
    {
     "name": "stderr",
     "output_type": "stream",
     "text": [
      "c:\\Users\\evera\\Documents\\workspace\\Trilha_Python\\DataFruta_V1\\NotasTurma.py:112: RuntimeWarning: divide by zero encountered in divide\n",
      "  return len(self.__notas[index]) / np.sum(1/self.__notas[index])\n"
     ]
    },
    {
     "name": "stdout",
     "output_type": "stream",
     "text": [
      "24.4 µs ± 4.86 µs per loop (mean ± std. dev. of 7 runs, 100,000 loops each)\n",
      "Media harmonica dos salario = 0.0\n"
     ]
    }
   ],
   "source": [
    "# usando metodos numpy\n",
    "%timeit notas.mediaHarmonicaAluno()\n",
    "print(\"Media harmonica dos salario = \" + str(notas.mediaHarmonicaAluno()))"
   ]
  },
  {
   "cell_type": "markdown",
   "metadata": {},
   "source": [
    "### Mediana"
   ]
  },
  {
   "cell_type": "code",
   "execution_count": 8,
   "metadata": {},
   "outputs": [
    {
     "name": "stdout",
     "output_type": "stream",
     "text": [
      "43 µs ± 7.05 µs per loop (mean ± std. dev. of 7 runs, 10,000 loops each)\n",
      "Mediana dos salario = 5.205\n"
     ]
    }
   ],
   "source": [
    "# usando sem metodos numpy\n",
    "%timeit lista_salarios.mediana()\n",
    "print(\"Mediana dos salario = \" + str(lista_salarios.mediana()))"
   ]
  },
  {
   "cell_type": "code",
   "execution_count": 9,
   "metadata": {},
   "outputs": [
    {
     "name": "stdout",
     "output_type": "stream",
     "text": [
      "35.6 µs ± 3.4 µs per loop (mean ± std. dev. of 7 runs, 10,000 loops each)\n",
      "Mediana dos salario = 5.205\n"
     ]
    }
   ],
   "source": [
    "# usando metodos numpy\n",
    "%timeit notas.medianaAluno()\n",
    "print(\"Mediana dos salario = \" + str(notas.medianaAluno()))"
   ]
  },
  {
   "cell_type": "markdown",
   "metadata": {},
   "source": [
    "### Mediana inferior"
   ]
  },
  {
   "cell_type": "code",
   "execution_count": 10,
   "metadata": {},
   "outputs": [
    {
     "name": "stdout",
     "output_type": "stream",
     "text": [
      "345 µs ± 68.3 µs per loop (mean ± std. dev. of 7 runs, 1,000 loops each)\n",
      "Mediana inferior dos salario = 2.44\n"
     ]
    }
   ],
   "source": [
    "# usando sem metodos numpy\n",
    "%timeit lista_salarios.medianaInferior()\n",
    "print(\"Mediana inferior dos salario = \" + str(lista_salarios.medianaInferior()))"
   ]
  },
  {
   "cell_type": "code",
   "execution_count": 11,
   "metadata": {},
   "outputs": [
    {
     "name": "stdout",
     "output_type": "stream",
     "text": [
      "202 µs ± 28 µs per loop (mean ± std. dev. of 7 runs, 10,000 loops each)\n",
      "Mediana inferior dos salario = 2.4375\n"
     ]
    }
   ],
   "source": [
    "# usando metodos numpy\n",
    "%timeit notas.medianaInferiorAluno()\n",
    "print(\"Mediana inferior dos salario = \" + str(notas.medianaInferiorAluno()))"
   ]
  },
  {
   "cell_type": "markdown",
   "metadata": {},
   "source": [
    "### Mediana superior"
   ]
  },
  {
   "cell_type": "code",
   "execution_count": 12,
   "metadata": {},
   "outputs": [
    {
     "name": "stdout",
     "output_type": "stream",
     "text": [
      "473 µs ± 89.6 µs per loop (mean ± std. dev. of 7 runs, 1,000 loops each)\n",
      "Mediana superior dos salario = 7.67\n"
     ]
    }
   ],
   "source": [
    "# usando sem metodos numpy\n",
    "%timeit lista_salarios.medianaSuperior()\n",
    "print(\"Mediana superior dos salario = \" + str(lista_salarios.medianaSuperior()))"
   ]
  },
  {
   "cell_type": "code",
   "execution_count": 13,
   "metadata": {},
   "outputs": [
    {
     "name": "stdout",
     "output_type": "stream",
     "text": [
      "187 µs ± 33.8 µs per loop (mean ± std. dev. of 7 runs, 1,000 loops each)\n",
      "Mediana superior dos salario = 7.6625\n"
     ]
    }
   ],
   "source": [
    "# usando metodos numpy\n",
    "%timeit notas.medianaSuperiorAluno()\n",
    "print(\"Mediana superior dos salario = \" + str(notas.medianaSuperiorAluno()))"
   ]
  },
  {
   "cell_type": "markdown",
   "metadata": {},
   "source": [
    "## Medidas de espalhamento"
   ]
  },
  {
   "cell_type": "markdown",
   "metadata": {},
   "source": [
    "### Desvio padrao populacional"
   ]
  },
  {
   "cell_type": "code",
   "execution_count": null,
   "metadata": {},
   "outputs": [],
   "source": [
    "# usando sem metodos numpy\n",
    "%timeit lista_salarios.desvioPadraoPopulacional()\n",
    "print(\"Desvio populacional dos salario = \" + str(lista_salarios.desvioPadraoPopulacional()))"
   ]
  },
  {
   "cell_type": "code",
   "execution_count": null,
   "metadata": {},
   "outputs": [],
   "source": [
    "# usando metodos numpy\n",
    "%timeit notas.desvioPadraoPopulacionalAluno()\n",
    "print(\"Desvio populacional dos salario = \" + str(notas.desvioPadraoPopulacionalAluno()))"
   ]
  },
  {
   "cell_type": "markdown",
   "metadata": {},
   "source": [
    "### Variancia populacional"
   ]
  },
  {
   "cell_type": "code",
   "execution_count": null,
   "metadata": {},
   "outputs": [],
   "source": [
    "# usando sem metodos numpy\n",
    "%timeit lista_salarios.varianciaPopulacional()\n",
    "print(\"Variancia populacional dos salario = \" + str(lista_salarios.varianciaPopulacional()))"
   ]
  },
  {
   "cell_type": "code",
   "execution_count": null,
   "metadata": {},
   "outputs": [],
   "source": [
    "# usando metodos numpy\n",
    "%timeit notas.varianciaPopulacionalAluno()\n",
    "print(\"Variancia populacional dos salario = \" + str(notas.varianciaPopulacionalAluno()))"
   ]
  },
  {
   "cell_type": "markdown",
   "metadata": {},
   "source": [
    "### Desvio padrao amostral"
   ]
  },
  {
   "cell_type": "code",
   "execution_count": null,
   "metadata": {},
   "outputs": [],
   "source": [
    "# usando sem metodos numpy\n",
    "%timeit lista_salarios.desvioPadraoAmostral()\n",
    "print(\"Desvio amostral dos salario = \" + str(lista_salarios.desvioPadraoAmostral()))"
   ]
  },
  {
   "cell_type": "code",
   "execution_count": null,
   "metadata": {},
   "outputs": [],
   "source": [
    "# usando metodos numpy\n",
    "%timeit notas.desvioPadraoAmostralAluno()\n",
    "print(\"Desvio amostral dos salario = \" + str(notas.desvioPadraoAmostralAluno()))"
   ]
  },
  {
   "cell_type": "markdown",
   "metadata": {},
   "source": [
    "### Variancia amostral"
   ]
  },
  {
   "cell_type": "code",
   "execution_count": null,
   "metadata": {},
   "outputs": [],
   "source": [
    "# usando sem metodos numpy\n",
    "%timeit salarios.varianciaAmostral()\n",
    "print(\"Variancia amostral dos salario = \" + str(lista_salarios.varianciaAmostral()))"
   ]
  },
  {
   "cell_type": "code",
   "execution_count": null,
   "metadata": {},
   "outputs": [],
   "source": [
    "# usando metodos numpy\n",
    "%timeit notas.varianciaAmostralAluno()\n",
    "print(\"Variancia amostral dos salario = \" + str(notas.varianciaAmostralAluno()))"
   ]
  },
  {
   "cell_type": "markdown",
   "metadata": {},
   "source": [
    "## Resultados\n",
    "\n",
    "> Com execeção da mediana, ao usar numpy os resultados foram obtidos de forma muito mais rapida. Esse resultado em espcifico pode ser devido ao numero pequeno de elementos na lista.\n",
    "> \n",
    "> Abaixo uma tabela com os tempos de execução para uma lista com 1000 elementos.\n",
    "\n",
    "| Metodo | Tempo Lista | Tempo Numpy |\n",
    "| ------ | ----------- | ----------- |\n",
    "| Média aritmética | 103 µs | 7.64 µs |\n",
    "| Média geométrica | 142 µs | 12.2 µs |\n",
    "| Média harmonica | 207 µs | 10.9 µs |\n",
    "| Mediana | 16.4 µs | 33.6 µs |\n",
    "| Mediana inferior | 269 µs | 119 µs |\n",
    "| Mediana superior | 277 µs | 128 µs |\n",
    "| Desvio padrao populacional | 421 µs | 37.3 µs |\n",
    "| Variancia populacional | 401 µs | 26 µs |\n",
    "| Desvio padrao amostral | 419 µs | 29.5 µs |\n",
    "| Variancia amostral | 424 µs | 27 µs  |\n"
   ]
  }
 ],
 "metadata": {
  "kernelspec": {
   "display_name": "residencia",
   "language": "python",
   "name": "python3"
  },
  "language_info": {
   "codemirror_mode": {
    "name": "ipython",
    "version": 3
   },
   "file_extension": ".py",
   "mimetype": "text/x-python",
   "name": "python",
   "nbconvert_exporter": "python",
   "pygments_lexer": "ipython3",
   "version": "3.11.5"
  }
 },
 "nbformat": 4,
 "nbformat_minor": 2
}
