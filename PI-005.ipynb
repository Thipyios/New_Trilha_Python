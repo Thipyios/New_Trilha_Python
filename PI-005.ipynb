{
 "cells": [
  {
   "cell_type": "markdown",
   "metadata": {},
   "source": [
    "# Dados RESITIC\n",
    "\n",
    "Criando e tratando um conjunto de dados com informações sobre os residentes da Residência em Tecnologia (TIC18) que podem ajudar a determinar o perfil dos residentes.\n",
    "\n",
    "## Descrição do conjunto de dados\n",
    "\n",
    "- **Identificador** : Uma chave que segue o padrao tic18PY-XXXXX, onde XXXXX é um numero iniciado com os 3 primeiros digitos do CPF do residente e os dois ultimos digitos são o ano de naascimento do residente.\n",
    "- **Idade**: Idade do residente.\n",
    "- **Formação**: Um numero inteiro, sendo:\n",
    "  - 0: Formação técnica.\n",
    "  - 1: Formação técnica graduação em andamento\n",
    "  - 2: Graduação em andamento\n",
    "  - 3: Graduação concluída\n",
    "- **Área de formação Geral**: Se a formação do residente não for 0 (Formação técnica), então é um número inteiro, sendo:\n",
    "  - 0: Engenharia\n",
    "  - 1: Computação\n",
    "- **Área de formação Específica**: Se a formação do residente não for 0 (Formação técnica) o campo sera uma string com o curso especícifo que está cursando ou cursou.\n",
    "- **Andamento de graduação**: Se a formação do residente for 1 ou 2, possui um numero de ponto flutuante que indica o percentual de andamento do curso.\n",
    "- **Tempo de formado**: Se a formação do residente for 3, possui um numero inteiro que indica o tempo de formado em anos.\n",
    "- **Experiencia previa em programação**: Verdadeiro ou falso indicando se o residente possui experiência prévia em programação."
   ]
  },
  {
   "cell_type": "code",
   "execution_count": 1,
   "metadata": {},
   "outputs": [],
   "source": [
    "import pandas as pd\n",
    "import numpy as np"
   ]
  },
  {
   "cell_type": "markdown",
   "metadata": {},
   "source": [
    "# Exercicio 1: Criando um conjunto de dados\n"
   ]
  },
  {
   "cell_type": "code",
   "execution_count": 2,
   "metadata": {},
   "outputs": [],
   "source": [
    "identificador = [\"tic18Py08200\", \"tic18Py86001\", \"tic18Py05999\"]\n",
    "idade = [23, 22, 24]\n",
    "formacao = [1, 1, 2]\n",
    "formacao_geral = [1, 1, 0]\n",
    "formacao_especifica = [\"Ciência da Computação\", \"Ciência da Computação\", \"Engenharia Elétrica\"]\n",
    "andamento_graduacao = [66.0, 66.0, 99.0]\n",
    "tempo_formacao = [None, None, None]\n",
    "experiencia_previa = [True, True, True]"
   ]
  },
  {
   "cell_type": "markdown",
   "metadata": {},
   "source": [
    "# Exercicio 2: Trabalhando com Series"
   ]
  },
  {
   "cell_type": "markdown",
   "metadata": {},
   "source": [
    "## Criando as series"
   ]
  },
  {
   "cell_type": "code",
   "execution_count": 11,
   "metadata": {},
   "outputs": [],
   "source": [
    "index = pd.Index(identificador)\n",
    "idade = pd.Series(idade, index = index)\n",
    "formacao = pd.Series(formacao, index = index)\n",
    "formacao_geral= pd.Series(formacao_geral, index = index)\n",
    "formacao_especifica = pd.Series(formacao_especifica, index = index)\n",
    "andamento_graduacao = pd.Series(andamento_graduacao, index = index)\n",
    "tempo_formacao = pd.Series(tempo_formacao, index = index).fillna(0)\n",
    "experiencia_previa = pd.Series(experiencia_previa, index = index)"
   ]
  },
  {
   "cell_type": "markdown",
   "metadata": {},
   "source": [
    "## Criando Funções para trabalhar com as series"
   ]
  },
  {
   "cell_type": "code",
   "execution_count": 4,
   "metadata": {},
   "outputs": [],
   "source": [
    "def mediaIdade(idades):\n",
    "    return idades.mean()"
   ]
  },
  {
   "cell_type": "code",
   "execution_count": 5,
   "metadata": {},
   "outputs": [],
   "source": [
    "def membroMaisNovo(idades):\n",
    "    return idades.min()"
   ]
  },
  {
   "cell_type": "code",
   "execution_count": 6,
   "metadata": {},
   "outputs": [],
   "source": [
    "def membroMaisVelho(idades):\n",
    "    return idades.max()"
   ]
  },
  {
   "cell_type": "code",
   "execution_count": 12,
   "metadata": {},
   "outputs": [],
   "source": [
    "def formacaoPredominante(formacoes): \n",
    "    moda = formacoes.mode()\n",
    "    predominate = []\n",
    "    for i in moda:\n",
    "        if i == 0 or i == 1:\n",
    "            predominate.append('Técnico')\n",
    "        elif i == 2:\n",
    "            predominate.append('Graduando')\n",
    "        else:\n",
    "            predominate.append('Graduado') \n",
    "        \n",
    "    return predominate"
   ]
  },
  {
   "cell_type": "code",
   "execution_count": 17,
   "metadata": {},
   "outputs": [],
   "source": [
    "def formacaoGeralPredominante(formacoesGerais):\n",
    "    formacoesGeraisPosssiveis = {\n",
    "        0: \"Engenharia\",\n",
    "        1: \"Computação\"\n",
    "    }\n",
    "    \n",
    "    return formacoesGeraisPosssiveis[formacoesGerais.mode()[0]]"
   ]
  },
  {
   "cell_type": "markdown",
   "metadata": {},
   "source": [
    "## Perfil do residente"
   ]
  },
  {
   "cell_type": "code",
   "execution_count": null,
   "metadata": {},
   "outputs": [],
   "source": [
    "mediaIdade(idade)"
   ]
  },
  {
   "cell_type": "markdown",
   "metadata": {},
   "source": [
    "## Formação predominante"
   ]
  },
  {
   "cell_type": "code",
   "execution_count": null,
   "metadata": {},
   "outputs": [],
   "source": [
    "formacaoPredominante(formacao)"
   ]
  },
  {
   "cell_type": "markdown",
   "metadata": {},
   "source": [
    "## Formação geral predominante"
   ]
  },
  {
   "cell_type": "code",
   "execution_count": null,
   "metadata": {},
   "outputs": [],
   "source": [
    "formacaoGeralPredominante(formacao_geral)"
   ]
  },
  {
   "cell_type": "markdown",
   "metadata": {},
   "source": [
    "# Exercicio 3: Trabalhando com DataFrames"
   ]
  },
  {
   "cell_type": "code",
   "execution_count": 77,
   "metadata": {},
   "outputs": [
    {
     "name": "stdout",
     "output_type": "stream",
     "text": [
      "Média de idade:  23.0\n",
      "Membro mais novo:  22\n",
      "Membro mais velho:  24\n",
      "Formação predominante:  ['Técnico']\n",
      "Formação geral predominante:  Computação\n"
     ]
    },
    {
     "data": {
      "text/html": [
       "<div>\n",
       "<style scoped>\n",
       "    .dataframe tbody tr th:only-of-type {\n",
       "        vertical-align: middle;\n",
       "    }\n",
       "\n",
       "    .dataframe tbody tr th {\n",
       "        vertical-align: top;\n",
       "    }\n",
       "\n",
       "    .dataframe thead th {\n",
       "        text-align: right;\n",
       "    }\n",
       "</style>\n",
       "<table border=\"1\" class=\"dataframe\">\n",
       "  <thead>\n",
       "    <tr style=\"text-align: right;\">\n",
       "      <th></th>\n",
       "      <th>Idade</th>\n",
       "      <th>Formação</th>\n",
       "      <th>Formação Geral</th>\n",
       "      <th>Formação Específica</th>\n",
       "      <th>Andamento Graduação</th>\n",
       "      <th>Tempo Formação</th>\n",
       "      <th>Experiência Prévia</th>\n",
       "    </tr>\n",
       "  </thead>\n",
       "  <tbody>\n",
       "    <tr>\n",
       "      <th>tic18Py08200</th>\n",
       "      <td>23</td>\n",
       "      <td>1</td>\n",
       "      <td>1</td>\n",
       "      <td>Ciência da Computação</td>\n",
       "      <td>66.0</td>\n",
       "      <td>0</td>\n",
       "      <td>True</td>\n",
       "    </tr>\n",
       "    <tr>\n",
       "      <th>tic18Py86001</th>\n",
       "      <td>22</td>\n",
       "      <td>1</td>\n",
       "      <td>1</td>\n",
       "      <td>Ciência da Computação</td>\n",
       "      <td>66.0</td>\n",
       "      <td>0</td>\n",
       "      <td>True</td>\n",
       "    </tr>\n",
       "    <tr>\n",
       "      <th>tic18Py05999</th>\n",
       "      <td>24</td>\n",
       "      <td>2</td>\n",
       "      <td>0</td>\n",
       "      <td>Engenharia Elétrica</td>\n",
       "      <td>99.0</td>\n",
       "      <td>0</td>\n",
       "      <td>True</td>\n",
       "    </tr>\n",
       "  </tbody>\n",
       "</table>\n",
       "</div>"
      ],
      "text/plain": [
       "              Idade  Formação  Formação Geral    Formação Específica   \n",
       "tic18Py08200     23         1               1  Ciência da Computação  \\\n",
       "tic18Py86001     22         1               1  Ciência da Computação   \n",
       "tic18Py05999     24         2               0    Engenharia Elétrica   \n",
       "\n",
       "              Andamento Graduação  Tempo Formação  Experiência Prévia  \n",
       "tic18Py08200                 66.0               0                True  \n",
       "tic18Py86001                 66.0               0                True  \n",
       "tic18Py05999                 99.0               0                True  "
      ]
     },
     "execution_count": 77,
     "metadata": {},
     "output_type": "execute_result"
    }
   ],
   "source": [
    "data = pd.DataFrame({'Idade': idade, 'Formação': formacao, \n",
    "                        'Formação Geral': formacao_geral, 'Formação Específica': formacao_especifica, \n",
    "                        'Andamento Graduação': andamento_graduacao, 'Tempo Formação': tempo_formacao, \n",
    "                        'Experiência Prévia': experiencia_previa}, index = index)\n",
    "\n",
    "\n",
    "print(\"Média de idade: \", mediaIdade(data.loc[:, 'Idade']))\n",
    "print(\"Membro mais novo: \", membroMaisNovo(data.loc[:, 'Idade']))\n",
    "print(\"Membro mais velho: \", membroMaisVelho(data.loc[:, 'Idade']))\n",
    "print(\"Formação predominante: \", formacaoPredominante(data.loc[:, 'Formação']))\n",
    "print(\"Formação geral predominante: \", formacaoGeralPredominante(data.loc[:, 'Formação Geral']))\n",
    "\n",
    "data"
   ]
  },
  {
   "cell_type": "markdown",
   "metadata": {},
   "source": [
    "# Exercicio 4: Trabalhando com MultiIndex"
   ]
  },
  {
   "cell_type": "code",
   "execution_count": 113,
   "metadata": {},
   "outputs": [],
   "source": [
    "def criar_index(equipe, abreviacao, turma):\n",
    "    equipe['CPF (3 digitos)'] = equipe['CPF (3 digitos)'].astype(str).str.zfill(3)\n",
    "    equipe['Ano nascimento'] = equipe['Ano nascimento'].astype(str).str.zfill(2).str[-2::]\n",
    "    \n",
    "    index = [('tic18'+ abreviacao+ equipe.loc[i, 'CPF (3 digitos)'] + equipe.loc[i, 'Ano nascimento'], turma) for i in range(len(equipe))]\n",
    "    return index"
   ]
  },
  {
   "cell_type": "code",
   "execution_count": 118,
   "metadata": {},
   "outputs": [
    {
     "data": {
      "text/html": [
       "<div>\n",
       "<style scoped>\n",
       "    .dataframe tbody tr th:only-of-type {\n",
       "        vertical-align: middle;\n",
       "    }\n",
       "\n",
       "    .dataframe tbody tr th {\n",
       "        vertical-align: top;\n",
       "    }\n",
       "\n",
       "    .dataframe thead th {\n",
       "        text-align: right;\n",
       "    }\n",
       "</style>\n",
       "<table border=\"1\" class=\"dataframe\">\n",
       "  <thead>\n",
       "    <tr style=\"text-align: right;\">\n",
       "      <th></th>\n",
       "      <th></th>\n",
       "      <th>Idade</th>\n",
       "      <th>Formação</th>\n",
       "      <th>Engenharia ou Computação</th>\n",
       "      <th>Nome completo do curso</th>\n",
       "      <th>Percentual do curso</th>\n",
       "      <th>Anos de formado</th>\n",
       "      <th>Experiencia programação</th>\n",
       "    </tr>\n",
       "    <tr>\n",
       "      <th>Identificador</th>\n",
       "      <th>Turma</th>\n",
       "      <th></th>\n",
       "      <th></th>\n",
       "      <th></th>\n",
       "      <th></th>\n",
       "      <th></th>\n",
       "      <th></th>\n",
       "      <th></th>\n",
       "    </tr>\n",
       "  </thead>\n",
       "  <tbody>\n",
       "    <tr>\n",
       "      <th>tic18Py08200</th>\n",
       "      <th>Python</th>\n",
       "      <td>23</td>\n",
       "      <td>1</td>\n",
       "      <td>1</td>\n",
       "      <td>Ciencia da Computação</td>\n",
       "      <td>0.66</td>\n",
       "      <td>NaN</td>\n",
       "      <td>Sim</td>\n",
       "    </tr>\n",
       "    <tr>\n",
       "      <th>tic18Py86001</th>\n",
       "      <th>Python</th>\n",
       "      <td>22</td>\n",
       "      <td>1</td>\n",
       "      <td>1</td>\n",
       "      <td>Ciencia da Computação</td>\n",
       "      <td>0.66</td>\n",
       "      <td>NaN</td>\n",
       "      <td>Sim</td>\n",
       "    </tr>\n",
       "    <tr>\n",
       "      <th>tic18Py05999</th>\n",
       "      <th>Python</th>\n",
       "      <td>24</td>\n",
       "      <td>2</td>\n",
       "      <td>0</td>\n",
       "      <td>Engenharia Eletrica</td>\n",
       "      <td>0.99</td>\n",
       "      <td>NaN</td>\n",
       "      <td>Sim</td>\n",
       "    </tr>\n",
       "    <tr>\n",
       "      <th>tic18Net06799</th>\n",
       "      <th>.Net</th>\n",
       "      <td>24</td>\n",
       "      <td>3</td>\n",
       "      <td>1</td>\n",
       "      <td>Ciência da Computação</td>\n",
       "      <td>NaN</td>\n",
       "      <td>1.0</td>\n",
       "      <td>True</td>\n",
       "    </tr>\n",
       "    <tr>\n",
       "      <th>tic18Net07100</th>\n",
       "      <th>.Net</th>\n",
       "      <td>23</td>\n",
       "      <td>2</td>\n",
       "      <td>0</td>\n",
       "      <td>Engenharia Elétrica</td>\n",
       "      <td>90.16</td>\n",
       "      <td>NaN</td>\n",
       "      <td>True</td>\n",
       "    </tr>\n",
       "    <tr>\n",
       "      <th>tic18Net07799</th>\n",
       "      <th>.Net</th>\n",
       "      <td>24</td>\n",
       "      <td>2</td>\n",
       "      <td>0</td>\n",
       "      <td>Engenharia Química</td>\n",
       "      <td>76.94</td>\n",
       "      <td>NaN</td>\n",
       "      <td>True</td>\n",
       "    </tr>\n",
       "    <tr>\n",
       "      <th>tic18Net08099</th>\n",
       "      <th>.Net</th>\n",
       "      <td>24</td>\n",
       "      <td>2</td>\n",
       "      <td>0</td>\n",
       "      <td>Engenharia Química</td>\n",
       "      <td>75.58</td>\n",
       "      <td>NaN</td>\n",
       "      <td>True</td>\n",
       "    </tr>\n",
       "    <tr>\n",
       "      <th>tic18Net05996</th>\n",
       "      <th>.Net</th>\n",
       "      <td>27</td>\n",
       "      <td>1</td>\n",
       "      <td>0</td>\n",
       "      <td>Engenharia Química</td>\n",
       "      <td>81.38</td>\n",
       "      <td>NaN</td>\n",
       "      <td>True</td>\n",
       "    </tr>\n",
       "    <tr>\n",
       "      <th>tic18Jav06894</th>\n",
       "      <th>Java</th>\n",
       "      <td>29</td>\n",
       "      <td>3</td>\n",
       "      <td>1</td>\n",
       "      <td>Análise e Desenvolvimento de Sistemas</td>\n",
       "      <td>78.00</td>\n",
       "      <td>NaN</td>\n",
       "      <td>False</td>\n",
       "    </tr>\n",
       "    <tr>\n",
       "      <th>tic18Jav06200</th>\n",
       "      <th>Java</th>\n",
       "      <td>23</td>\n",
       "      <td>2</td>\n",
       "      <td>0</td>\n",
       "      <td>Engenharia Química</td>\n",
       "      <td>72.00</td>\n",
       "      <td>NaN</td>\n",
       "      <td>False</td>\n",
       "    </tr>\n",
       "    <tr>\n",
       "      <th>tic18Jav86399</th>\n",
       "      <th>Java</th>\n",
       "      <td>24</td>\n",
       "      <td>2</td>\n",
       "      <td>0</td>\n",
       "      <td>Engenharia química</td>\n",
       "      <td>70.16</td>\n",
       "      <td>NaN</td>\n",
       "      <td>False</td>\n",
       "    </tr>\n",
       "    <tr>\n",
       "      <th>tic18Jav05594</th>\n",
       "      <th>Java</th>\n",
       "      <td>29</td>\n",
       "      <td>3</td>\n",
       "      <td>0</td>\n",
       "      <td>Engenharia mecânica</td>\n",
       "      <td>NaN</td>\n",
       "      <td>4.0</td>\n",
       "      <td>False</td>\n",
       "    </tr>\n",
       "    <tr>\n",
       "      <th>tic18Jav05800</th>\n",
       "      <th>Java</th>\n",
       "      <td>23</td>\n",
       "      <td>2</td>\n",
       "      <td>0</td>\n",
       "      <td>Engenharia quimica</td>\n",
       "      <td>80.00</td>\n",
       "      <td>NaN</td>\n",
       "      <td>False</td>\n",
       "    </tr>\n",
       "  </tbody>\n",
       "</table>\n",
       "</div>"
      ],
      "text/plain": [
       "                      Idade  Formação  Engenharia ou Computação   \n",
       "Identificador Turma                                               \n",
       "tic18Py08200  Python     23         1                         1  \\\n",
       "tic18Py86001  Python     22         1                         1   \n",
       "tic18Py05999  Python     24         2                         0   \n",
       "tic18Net06799 .Net       24         3                         1   \n",
       "tic18Net07100 .Net       23         2                         0   \n",
       "tic18Net07799 .Net       24         2                         0   \n",
       "tic18Net08099 .Net       24         2                         0   \n",
       "tic18Net05996 .Net       27         1                         0   \n",
       "tic18Jav06894 Java       29         3                         1   \n",
       "tic18Jav06200 Java       23         2                         0   \n",
       "tic18Jav86399 Java       24         2                         0   \n",
       "tic18Jav05594 Java       29         3                         0   \n",
       "tic18Jav05800 Java       23         2                         0   \n",
       "\n",
       "                                     Nome completo do curso   \n",
       "Identificador Turma                                           \n",
       "tic18Py08200  Python                  Ciencia da Computação  \\\n",
       "tic18Py86001  Python                  Ciencia da Computação   \n",
       "tic18Py05999  Python                    Engenharia Eletrica   \n",
       "tic18Net06799 .Net                    Ciência da Computação   \n",
       "tic18Net07100 .Net                      Engenharia Elétrica   \n",
       "tic18Net07799 .Net                       Engenharia Química   \n",
       "tic18Net08099 .Net                       Engenharia Química   \n",
       "tic18Net05996 .Net                       Engenharia Química   \n",
       "tic18Jav06894 Java    Análise e Desenvolvimento de Sistemas   \n",
       "tic18Jav06200 Java                       Engenharia Química   \n",
       "tic18Jav86399 Java                       Engenharia química   \n",
       "tic18Jav05594 Java                      Engenharia mecânica   \n",
       "tic18Jav05800 Java                       Engenharia quimica   \n",
       "\n",
       "                      Percentual do curso  Anos de formado   \n",
       "Identificador Turma                                          \n",
       "tic18Py08200  Python                 0.66              NaN  \\\n",
       "tic18Py86001  Python                 0.66              NaN   \n",
       "tic18Py05999  Python                 0.99              NaN   \n",
       "tic18Net06799 .Net                    NaN              1.0   \n",
       "tic18Net07100 .Net                  90.16              NaN   \n",
       "tic18Net07799 .Net                  76.94              NaN   \n",
       "tic18Net08099 .Net                  75.58              NaN   \n",
       "tic18Net05996 .Net                  81.38              NaN   \n",
       "tic18Jav06894 Java                  78.00              NaN   \n",
       "tic18Jav06200 Java                  72.00              NaN   \n",
       "tic18Jav86399 Java                  70.16              NaN   \n",
       "tic18Jav05594 Java                    NaN              4.0   \n",
       "tic18Jav05800 Java                  80.00              NaN   \n",
       "\n",
       "                     Experiencia programação  \n",
       "Identificador Turma                           \n",
       "tic18Py08200  Python                     Sim  \n",
       "tic18Py86001  Python                     Sim  \n",
       "tic18Py05999  Python                     Sim  \n",
       "tic18Net06799 .Net                      True  \n",
       "tic18Net07100 .Net                      True  \n",
       "tic18Net07799 .Net                      True  \n",
       "tic18Net08099 .Net                      True  \n",
       "tic18Net05996 .Net                      True  \n",
       "tic18Jav06894 Java                     False  \n",
       "tic18Jav06200 Java                     False  \n",
       "tic18Jav86399 Java                     False  \n",
       "tic18Jav05594 Java                     False  \n",
       "tic18Jav05800 Java                     False  "
      ]
     },
     "execution_count": 118,
     "metadata": {},
     "output_type": "execute_result"
    }
   ],
   "source": [
    "equipe1 = pd.read_csv('dadosEquipes/Resitic - Equipe1.csv', index_col = False)\n",
    "equipe2 = pd.read_csv('dadosEquipes/Resitic - Equipe2.csv', index_col = False)\n",
    "equipe3 = pd.read_csv('dadosEquipes/Resitic - Equipe3.csv', index_col = False)\n",
    "\n",
    "indice1 = criar_index(equipe1, 'Py', 'Python')\n",
    "indice2 = criar_index(equipe2, 'Net', '.Net')\n",
    "indice3 = criar_index(equipe3, 'Jav', 'Java')\n",
    "\n",
    "index = indice1 + indice2 + indice3\n",
    "index = pd.MultiIndex.from_tuples(index, names=['Identificador', 'Turma'])\n",
    "\n",
    "turmas = pd.concat([equipe1, equipe2, equipe3])\n",
    "turmas = turmas.drop(columns = ['CPF (3 digitos)', 'Ano nascimento'])\n",
    "\n",
    "turmas.index = index\n",
    "turmas\n",
    "\n"
   ]
  }
 ],
 "metadata": {
  "kernelspec": {
   "display_name": "residencia",
   "language": "python",
   "name": "python3"
  },
  "language_info": {
   "codemirror_mode": {
    "name": "ipython",
    "version": 3
   },
   "file_extension": ".py",
   "mimetype": "text/x-python",
   "name": "python",
   "nbconvert_exporter": "python",
   "pygments_lexer": "ipython3",
   "version": "3.11.5"
  }
 },
 "nbformat": 4,
 "nbformat_minor": 2
}
