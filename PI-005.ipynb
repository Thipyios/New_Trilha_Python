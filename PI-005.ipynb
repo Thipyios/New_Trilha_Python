{
 "cells": [
  {
   "cell_type": "markdown",
   "metadata": {},
   "source": [
    "# Dados RESITIC\n",
    "\n",
    "Criando e tratando um conjunto de dados com informações sobre os residentes da Residência em Tecnologia (TIC18).\n",
    "\n",
    "\n",
    "## Descrição do conjunto de dados\n",
    "\n",
    "O conjunto de dados possui "
   ]
  },
  {
   "cell_type": "code",
   "execution_count": null,
   "metadata": {},
   "outputs": [],
   "source": [
    "import pandas as pd\n",
    "import numpy as np"
   ]
  },
  {
   "cell_type": "markdown",
   "metadata": {},
   "source": [
    "# Exercicio 1: Criando um conjunto de dados\n"
   ]
  },
  {
   "cell_type": "code",
   "execution_count": null,
   "metadata": {},
   "outputs": [],
   "source": [
    "identificador = [\"tic18Py08200\", \"tic18Py86001\", \"tic18Py05999\"]\n",
    "idade = [23, 22, 24]\n",
    "formação = [1, 1, 2]\n",
    "formaçãoGeral = [1, 1, 0]\n",
    "formaçãoEspecífica = [\"Ciência da Computação\", \"Ciência da Computação\", \"Engenharia Elétrica\"]\n",
    "andamentoGraduação = [0.66, 0.66, 0.99]\n",
    "tempoFormação = [None, None, None]\n",
    "experiênciaPrevia = [True, True, True]"
   ]
  },
  {
   "cell_type": "markdown",
   "metadata": {},
   "source": [
    "# Exercicio 2: Trabalhando com Series"
   ]
  },
  {
   "cell_type": "code",
   "execution_count": null,
   "metadata": {},
   "outputs": [],
   "source": [
    "index = pd.Index(identificador)\n",
    "idade = pd.Series(idade, index = index)\n",
    "formação = pd.Series(formação, index = index)\n",
    "formaçãoGeral= pd.Series(formaçãoGeral, index = index)\n",
    "formaçãoEspecífica = pd.Series(formaçãoEspecífica, index = index)\n",
    "andamentoGraduação = pd.Series(andamentoGraduação, index = index)\n",
    "tempoFormação = pd.Series(tempoFormação, index = index).fillna(0)\n",
    "experiênciaPrevia = pd.Series(experiênciaPrevia, index = index)"
   ]
  },
  {
   "cell_type": "code",
   "execution_count": null,
   "metadata": {},
   "outputs": [],
   "source": [
    "def mediaIdade(idades):\n",
    "    return idades.mean()"
   ]
  },
  {
   "cell_type": "code",
   "execution_count": null,
   "metadata": {},
   "outputs": [],
   "source": [
    "def formacaoPredominante(formacoes):\n",
    "    formacoesPosssiveis = {\n",
    "        0: \"Formação técnica.\",\n",
    "        1: \"Formação técnica graduação em andamento\",\n",
    "        2: \"Graduação em andamento\",\n",
    "        3: \"Graduação concluída\"\n",
    "    }\n",
    "        \n",
    "    return formacoesPosssiveis[formacoes.mode()[0]]"
   ]
  },
  {
   "cell_type": "code",
   "execution_count": null,
   "metadata": {},
   "outputs": [],
   "source": [
    "def formacaoGeralPredominante(formacoesGerais):\n",
    "    formacoesGeraisPosssiveis = {\n",
    "        0: \"Engenharia\",\n",
    "        1: \"Computação\"\n",
    "    }\n",
    "    \n",
    "    return formacoesGeraisPosssiveis[formacoesGerais.mode()[0]]"
   ]
  },
  {
   "cell_type": "markdown",
   "metadata": {},
   "source": [
    "## Media de idade dos residentes"
   ]
  },
  {
   "cell_type": "code",
   "execution_count": null,
   "metadata": {},
   "outputs": [],
   "source": [
    "mediaIdade(idade)"
   ]
  },
  {
   "cell_type": "markdown",
   "metadata": {},
   "source": [
    "## Formação predominante"
   ]
  },
  {
   "cell_type": "code",
   "execution_count": null,
   "metadata": {},
   "outputs": [],
   "source": [
    "formacaoPredominante(formação)"
   ]
  },
  {
   "cell_type": "markdown",
   "metadata": {},
   "source": [
    "## Formação geral predominante"
   ]
  },
  {
   "cell_type": "code",
   "execution_count": null,
   "metadata": {},
   "outputs": [],
   "source": [
    "formacaoGeralPredominante(formaçãoGeral)"
   ]
  },
  {
   "cell_type": "markdown",
   "metadata": {},
   "source": [
    "# Exercicio 3: Trabalhando com DataFrames"
   ]
  },
  {
   "cell_type": "code",
   "execution_count": null,
   "metadata": {},
   "outputs": [],
   "source": [
    "data = pd.DataFrame({'Idade': idade, 'Formação': formação, \n",
    "                        'Formação Geral': formaçãoGeral, 'Formação Específica': formaçãoEspecífica, \n",
    "                        'Andamento Graduação': andamentoGraduação, 'Tempo Formação': tempoFormação, \n",
    "                        'Experiência Prévia': experiênciaPrevia}, index = index)\n",
    "\n",
    "print(\"Dataframe: \")\n",
    "print(data)"
   ]
  },
  {
   "cell_type": "markdown",
   "metadata": {},
   "source": [
    "# Exercicio 4: Trabalhando com MultiIndex"
   ]
  },
  {
   "cell_type": "code",
   "execution_count": null,
   "metadata": {},
   "outputs": [],
   "source": []
  }
 ],
 "metadata": {
  "language_info": {
   "name": "python"
  }
 },
 "nbformat": 4,
 "nbformat_minor": 2
}
